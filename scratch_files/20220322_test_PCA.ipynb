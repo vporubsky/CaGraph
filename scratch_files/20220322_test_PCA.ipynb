{
 "cells": [
  {
   "cell_type": "code",
   "execution_count": 10,
   "metadata": {},
   "outputs": [],
   "source": [
    "\"\"\"\n",
    "Perform PCA on a time-series dataset (calcium fluorescence data) to generate\n",
    "a decomposition of the data to show the trajectory in 3D state space.\n",
    "\n",
    "\n",
    "\"\"\"\n",
    "from neuronal_network_graph import DGNetworkGraph as nng\n",
    "import matplotlib.pyplot as plt\n",
    "import numpy as np\n",
    "from scipy.linalg import svd\n",
    "import seaborn as sns\n",
    "import matplotlib as mpl\n",
    "import pandas as pd\n",
    "import scipy\n",
    "import random\n",
    "# Wildtype condition\n",
    "D1_WT = ['1055-1_D1_smoothed_calcium_traces.csv', '1055-2_D1_smoothed_calcium_traces.csv',\n",
    "         '1055-4_D1_smoothed_calcium_traces.csv',\n",
    "         '122-1_D1_smoothed_calcium_traces.csv',\n",
    "         '122-2_D1_smoothed_calcium_traces.csv', '122-3_D1_smoothed_calcium_traces.csv', '14-0_D1_smoothed_calcium_traces.csv']\n",
    "D9_WT = ['1055-1_D9_smoothed_calcium_traces.csv', '1055-2_D9_smoothed_calcium_traces.csv',\n",
    "         '1055-4_D9_smoothed_calcium_traces.csv',\n",
    "         '14-0_D9_smoothed_calcium_traces.csv', '122-1_D9_smoothed_calcium_traces.csv',\n",
    "         '122-2_D9_smoothed_calcium_traces.csv', '122-3_D9_smoothed_calcium_traces.csv']\n",
    "\n",
    "\n",
    "path_to_data = \"/Users/veronica_porubsky/GitHub/DG_graph_theory/LC-DG-FC-data/\"\n",
    "\n",
    "data_file = D1_WT[3]\n",
    "mouse_id = data_file.replace('_smoothed_calcium_traces.csv', '')\n",
    "nn = nng(path_to_data + data_file)\n",
    "%matplotlib widget\n"
   ]
  },
  {
   "cell_type": "code",
   "execution_count": 12,
   "metadata": {
    "pycharm": {
     "name": "#%% Singular value decomposition in two dimensions\n"
    }
   },
   "outputs": [
    {
     "data": {
      "application/vnd.jupyter.widget-view+json": {
       "model_id": "e9b034c0089c487ea0d34b1016c533b2",
       "version_major": 2,
       "version_minor": 0
      },
      "text/plain": [
       "Canvas(toolbar=Toolbar(toolitems=[('Home', 'Reset original view', 'home', 'home'), ('Back', 'Back to previous …"
      ]
     },
     "metadata": {},
     "output_type": "display_data"
    }
   ],
   "source": [
    "# Todo: check normalization\n",
    "plt.figure(figsize=(5,5), dpi=200)\n",
    "ax = plt.axes(projection='3d')\n",
    "mouse_idx = 6\n",
    "data_file = D1_WT[mouse_idx]\n",
    "\n",
    "\n",
    "mouse_id = data_file.replace('_smoothed_calcium_traces.csv', '')\n",
    "nn = nng(path_to_data + data_file)\n",
    "\n",
    "data_A = np.transpose(nn.context_A_dynamics)\n",
    "data_A-=np.mean(data_A)\n",
    "data_A/=np.std(data_A)\n",
    "data_B = np.transpose(nn.context_B_dynamics)\n",
    "data_B-=np.mean(data_B)\n",
    "data_B/=np.std(data_B)\n",
    "\n",
    "# SVD\n",
    "U_a, Sig_a, V_a = svd(data_A)\n",
    "U_b, Sig_b, V_b = svd(data_B)\n",
    "\n",
    "V_r_a = V_a[:, 0:3]\n",
    "V_r_b = V_b[:, 0:3]\n",
    "projection_a1 = np.matmul(data_A, V_r_a)\n",
    "projection_b1 = np.matmul(data_B, V_r_b)\n",
    "\n",
    "data_file = D9_WT[mouse_idx]\n",
    "mouse_id = data_file.replace('_smoothed_calcium_traces.csv', '')\n",
    "nn = nng(path_to_data + data_file)\n",
    "\n",
    "data_A = np.transpose(nn.context_A_dynamics)\n",
    "data_A-=np.mean(data_A)\n",
    "data_A/=np.std(data_A)\n",
    "data_B = np.transpose(nn.context_B_dynamics)\n",
    "data_B-=np.mean(data_B)\n",
    "data_B/=np.std(data_B)\n",
    "\n",
    "# SVD\n",
    "U_a, Sig_a, V_a = svd(data_A)\n",
    "U_b, Sig_b, V_b = svd(data_B)\n",
    "\n",
    "V_r_a = V_a[:, 0:3]\n",
    "V_r_b = V_b[:, 0:3]\n",
    "projection_a9 = np.matmul(data_A, V_r_a)\n",
    "projection_b9 = np.matmul(data_B, V_r_b)\n",
    "\n",
    "# Plot projection/ trajectory in state space\n",
    "\n",
    "ax.scatter3D(projection_a1[:,0], projection_a1[:,1], projection_a1[:,2], '.', color='salmon');\n",
    "ax.scatter3D(projection_b1[:,0], projection_b1[:,1], projection_b1[:,2], '.', color='teal');\n",
    "\n",
    "ax.scatter3D(projection_a9[:,0], projection_a9[:,1], projection_a9[:,2], '.', color='mistyrose');\n",
    "ax.scatter3D(projection_b9[:,0], projection_b9[:,1], projection_b9[:,2], '.', color='turquoise');\n",
    "plt.show()\n",
    "\n"
   ]
  },
  {
   "cell_type": "code",
   "execution_count": 15,
   "metadata": {
    "pycharm": {
     "name": "#%% Singular value decomposition in two dimensions\n"
    }
   },
   "outputs": [
    {
     "ename": "ValueError",
     "evalue": "3 columns passed, passed data had 1800 columns",
     "output_type": "error",
     "traceback": [
      "\u001B[0;31m---------------------------------------------------------------------------\u001B[0m",
      "\u001B[0;31mAssertionError\u001B[0m                            Traceback (most recent call last)",
      "\u001B[0;32m~/venv/lib/python3.8/site-packages/pandas/core/internals/construction.py\u001B[0m in \u001B[0;36m_list_to_arrays\u001B[0;34m(data, columns, coerce_float, dtype)\u001B[0m\n\u001B[1;32m    567\u001B[0m     \u001B[0;32mtry\u001B[0m\u001B[0;34m:\u001B[0m\u001B[0;34m\u001B[0m\u001B[0;34m\u001B[0m\u001B[0m\n\u001B[0;32m--> 568\u001B[0;31m         \u001B[0mcolumns\u001B[0m \u001B[0;34m=\u001B[0m \u001B[0m_validate_or_indexify_columns\u001B[0m\u001B[0;34m(\u001B[0m\u001B[0mcontent\u001B[0m\u001B[0;34m,\u001B[0m \u001B[0mcolumns\u001B[0m\u001B[0;34m)\u001B[0m\u001B[0;34m\u001B[0m\u001B[0;34m\u001B[0m\u001B[0m\n\u001B[0m\u001B[1;32m    569\u001B[0m         \u001B[0mresult\u001B[0m \u001B[0;34m=\u001B[0m \u001B[0m_convert_object_array\u001B[0m\u001B[0;34m(\u001B[0m\u001B[0mcontent\u001B[0m\u001B[0;34m,\u001B[0m \u001B[0mdtype\u001B[0m\u001B[0;34m=\u001B[0m\u001B[0mdtype\u001B[0m\u001B[0;34m,\u001B[0m \u001B[0mcoerce_float\u001B[0m\u001B[0;34m=\u001B[0m\u001B[0mcoerce_float\u001B[0m\u001B[0;34m)\u001B[0m\u001B[0;34m\u001B[0m\u001B[0;34m\u001B[0m\u001B[0m\n",
      "\u001B[0;32m~/venv/lib/python3.8/site-packages/pandas/core/internals/construction.py\u001B[0m in \u001B[0;36m_validate_or_indexify_columns\u001B[0;34m(content, columns)\u001B[0m\n\u001B[1;32m    691\u001B[0m             \u001B[0;31m# caller's responsibility to check for this...\u001B[0m\u001B[0;34m\u001B[0m\u001B[0;34m\u001B[0m\u001B[0;34m\u001B[0m\u001B[0m\n\u001B[0;32m--> 692\u001B[0;31m             raise AssertionError(\n\u001B[0m\u001B[1;32m    693\u001B[0m                 \u001B[0;34mf\"{len(columns)} columns passed, passed data had \"\u001B[0m\u001B[0;34m\u001B[0m\u001B[0;34m\u001B[0m\u001B[0m\n",
      "\u001B[0;31mAssertionError\u001B[0m: 3 columns passed, passed data had 1800 columns",
      "\nThe above exception was the direct cause of the following exception:\n",
      "\u001B[0;31mValueError\u001B[0m                                Traceback (most recent call last)",
      "\u001B[0;32m<ipython-input-15-358f4d78efc9>\u001B[0m in \u001B[0;36m<module>\u001B[0;34m\u001B[0m\n\u001B[1;32m      1\u001B[0m \u001B[0;32mimport\u001B[0m \u001B[0mplotly\u001B[0m\u001B[0;34m.\u001B[0m\u001B[0mexpress\u001B[0m \u001B[0;32mas\u001B[0m \u001B[0mpx\u001B[0m\u001B[0;34m\u001B[0m\u001B[0;34m\u001B[0m\u001B[0m\n\u001B[1;32m      2\u001B[0m \u001B[0mdata_a1\u001B[0m \u001B[0;34m=\u001B[0m \u001B[0;34m[\u001B[0m\u001B[0mlist\u001B[0m\u001B[0;34m(\u001B[0m\u001B[0mprojection_a1\u001B[0m\u001B[0;34m[\u001B[0m\u001B[0;34m:\u001B[0m\u001B[0;34m,\u001B[0m \u001B[0;36m0\u001B[0m\u001B[0;34m]\u001B[0m\u001B[0;34m)\u001B[0m\u001B[0;34m,\u001B[0m \u001B[0mlist\u001B[0m\u001B[0;34m(\u001B[0m\u001B[0mprojection_a1\u001B[0m\u001B[0;34m[\u001B[0m\u001B[0;34m:\u001B[0m\u001B[0;34m,\u001B[0m \u001B[0;36m1\u001B[0m\u001B[0;34m]\u001B[0m\u001B[0;34m)\u001B[0m\u001B[0;34m,\u001B[0m \u001B[0mlist\u001B[0m\u001B[0;34m(\u001B[0m\u001B[0mprojection_a1\u001B[0m\u001B[0;34m[\u001B[0m\u001B[0;34m:\u001B[0m\u001B[0;34m,\u001B[0m\u001B[0;36m2\u001B[0m\u001B[0;34m]\u001B[0m\u001B[0;34m)\u001B[0m\u001B[0;34m]\u001B[0m\u001B[0;34m\u001B[0m\u001B[0;34m\u001B[0m\u001B[0m\n\u001B[0;32m----> 3\u001B[0;31m \u001B[0mdf_a1\u001B[0m \u001B[0;34m=\u001B[0m \u001B[0mpd\u001B[0m\u001B[0;34m.\u001B[0m\u001B[0mDataFrame\u001B[0m\u001B[0;34m(\u001B[0m\u001B[0mdata_a1\u001B[0m\u001B[0;34m,\u001B[0m \u001B[0mcolumns\u001B[0m \u001B[0;34m=\u001B[0m \u001B[0;34m[\u001B[0m\u001B[0;34m'PC1'\u001B[0m\u001B[0;34m,\u001B[0m \u001B[0;34m'PC2'\u001B[0m\u001B[0;34m,\u001B[0m \u001B[0;34m'PC3'\u001B[0m\u001B[0;34m]\u001B[0m\u001B[0;34m)\u001B[0m\u001B[0;34m\u001B[0m\u001B[0;34m\u001B[0m\u001B[0m\n\u001B[0m\u001B[1;32m      4\u001B[0m \u001B[0mprint\u001B[0m\u001B[0;34m(\u001B[0m\u001B[0mdf_a1\u001B[0m\u001B[0;34m)\u001B[0m\u001B[0;34m\u001B[0m\u001B[0;34m\u001B[0m\u001B[0m\n\u001B[1;32m      5\u001B[0m \u001B[0;34m\u001B[0m\u001B[0m\n",
      "\u001B[0;32m~/venv/lib/python3.8/site-packages/pandas/core/frame.py\u001B[0m in \u001B[0;36m__init__\u001B[0;34m(self, data, index, columns, dtype, copy)\u001B[0m\n\u001B[1;32m    568\u001B[0m                     \u001B[0;32mif\u001B[0m \u001B[0mis_named_tuple\u001B[0m\u001B[0;34m(\u001B[0m\u001B[0mdata\u001B[0m\u001B[0;34m[\u001B[0m\u001B[0;36m0\u001B[0m\u001B[0;34m]\u001B[0m\u001B[0;34m)\u001B[0m \u001B[0;32mand\u001B[0m \u001B[0mcolumns\u001B[0m \u001B[0;32mis\u001B[0m \u001B[0;32mNone\u001B[0m\u001B[0;34m:\u001B[0m\u001B[0;34m\u001B[0m\u001B[0;34m\u001B[0m\u001B[0m\n\u001B[1;32m    569\u001B[0m                         \u001B[0mcolumns\u001B[0m \u001B[0;34m=\u001B[0m \u001B[0mdata\u001B[0m\u001B[0;34m[\u001B[0m\u001B[0;36m0\u001B[0m\u001B[0;34m]\u001B[0m\u001B[0;34m.\u001B[0m\u001B[0m_fields\u001B[0m\u001B[0;34m\u001B[0m\u001B[0;34m\u001B[0m\u001B[0m\n\u001B[0;32m--> 570\u001B[0;31m                     \u001B[0marrays\u001B[0m\u001B[0;34m,\u001B[0m \u001B[0mcolumns\u001B[0m \u001B[0;34m=\u001B[0m \u001B[0mto_arrays\u001B[0m\u001B[0;34m(\u001B[0m\u001B[0mdata\u001B[0m\u001B[0;34m,\u001B[0m \u001B[0mcolumns\u001B[0m\u001B[0;34m,\u001B[0m \u001B[0mdtype\u001B[0m\u001B[0;34m=\u001B[0m\u001B[0mdtype\u001B[0m\u001B[0;34m)\u001B[0m\u001B[0;34m\u001B[0m\u001B[0;34m\u001B[0m\u001B[0m\n\u001B[0m\u001B[1;32m    571\u001B[0m                     \u001B[0mcolumns\u001B[0m \u001B[0;34m=\u001B[0m \u001B[0mensure_index\u001B[0m\u001B[0;34m(\u001B[0m\u001B[0mcolumns\u001B[0m\u001B[0;34m)\u001B[0m\u001B[0;34m\u001B[0m\u001B[0;34m\u001B[0m\u001B[0m\n\u001B[1;32m    572\u001B[0m \u001B[0;34m\u001B[0m\u001B[0m\n",
      "\u001B[0;32m~/venv/lib/python3.8/site-packages/pandas/core/internals/construction.py\u001B[0m in \u001B[0;36mto_arrays\u001B[0;34m(data, columns, coerce_float, dtype)\u001B[0m\n\u001B[1;32m    526\u001B[0m         \u001B[0;32mreturn\u001B[0m \u001B[0;34m[\u001B[0m\u001B[0;34m]\u001B[0m\u001B[0;34m,\u001B[0m \u001B[0;34m[\u001B[0m\u001B[0;34m]\u001B[0m  \u001B[0;31m# columns if columns is not None else []\u001B[0m\u001B[0;34m\u001B[0m\u001B[0;34m\u001B[0m\u001B[0m\n\u001B[1;32m    527\u001B[0m     \u001B[0;32mif\u001B[0m \u001B[0misinstance\u001B[0m\u001B[0;34m(\u001B[0m\u001B[0mdata\u001B[0m\u001B[0;34m[\u001B[0m\u001B[0;36m0\u001B[0m\u001B[0;34m]\u001B[0m\u001B[0;34m,\u001B[0m \u001B[0;34m(\u001B[0m\u001B[0mlist\u001B[0m\u001B[0;34m,\u001B[0m \u001B[0mtuple\u001B[0m\u001B[0;34m)\u001B[0m\u001B[0;34m)\u001B[0m\u001B[0;34m:\u001B[0m\u001B[0;34m\u001B[0m\u001B[0;34m\u001B[0m\u001B[0m\n\u001B[0;32m--> 528\u001B[0;31m         \u001B[0;32mreturn\u001B[0m \u001B[0m_list_to_arrays\u001B[0m\u001B[0;34m(\u001B[0m\u001B[0mdata\u001B[0m\u001B[0;34m,\u001B[0m \u001B[0mcolumns\u001B[0m\u001B[0;34m,\u001B[0m \u001B[0mcoerce_float\u001B[0m\u001B[0;34m=\u001B[0m\u001B[0mcoerce_float\u001B[0m\u001B[0;34m,\u001B[0m \u001B[0mdtype\u001B[0m\u001B[0;34m=\u001B[0m\u001B[0mdtype\u001B[0m\u001B[0;34m)\u001B[0m\u001B[0;34m\u001B[0m\u001B[0;34m\u001B[0m\u001B[0m\n\u001B[0m\u001B[1;32m    529\u001B[0m     \u001B[0;32melif\u001B[0m \u001B[0misinstance\u001B[0m\u001B[0;34m(\u001B[0m\u001B[0mdata\u001B[0m\u001B[0;34m[\u001B[0m\u001B[0;36m0\u001B[0m\u001B[0;34m]\u001B[0m\u001B[0;34m,\u001B[0m \u001B[0mabc\u001B[0m\u001B[0;34m.\u001B[0m\u001B[0mMapping\u001B[0m\u001B[0;34m)\u001B[0m\u001B[0;34m:\u001B[0m\u001B[0;34m\u001B[0m\u001B[0;34m\u001B[0m\u001B[0m\n\u001B[1;32m    530\u001B[0m         return _list_of_dict_to_arrays(\n",
      "\u001B[0;32m~/venv/lib/python3.8/site-packages/pandas/core/internals/construction.py\u001B[0m in \u001B[0;36m_list_to_arrays\u001B[0;34m(data, columns, coerce_float, dtype)\u001B[0m\n\u001B[1;32m    569\u001B[0m         \u001B[0mresult\u001B[0m \u001B[0;34m=\u001B[0m \u001B[0m_convert_object_array\u001B[0m\u001B[0;34m(\u001B[0m\u001B[0mcontent\u001B[0m\u001B[0;34m,\u001B[0m \u001B[0mdtype\u001B[0m\u001B[0;34m=\u001B[0m\u001B[0mdtype\u001B[0m\u001B[0;34m,\u001B[0m \u001B[0mcoerce_float\u001B[0m\u001B[0;34m=\u001B[0m\u001B[0mcoerce_float\u001B[0m\u001B[0;34m)\u001B[0m\u001B[0;34m\u001B[0m\u001B[0;34m\u001B[0m\u001B[0m\n\u001B[1;32m    570\u001B[0m     \u001B[0;32mexcept\u001B[0m \u001B[0mAssertionError\u001B[0m \u001B[0;32mas\u001B[0m \u001B[0me\u001B[0m\u001B[0;34m:\u001B[0m\u001B[0;34m\u001B[0m\u001B[0;34m\u001B[0m\u001B[0m\n\u001B[0;32m--> 571\u001B[0;31m         \u001B[0;32mraise\u001B[0m \u001B[0mValueError\u001B[0m\u001B[0;34m(\u001B[0m\u001B[0me\u001B[0m\u001B[0;34m)\u001B[0m \u001B[0;32mfrom\u001B[0m \u001B[0me\u001B[0m\u001B[0;34m\u001B[0m\u001B[0;34m\u001B[0m\u001B[0m\n\u001B[0m\u001B[1;32m    572\u001B[0m     \u001B[0;32mreturn\u001B[0m \u001B[0mresult\u001B[0m\u001B[0;34m,\u001B[0m \u001B[0mcolumns\u001B[0m\u001B[0;34m\u001B[0m\u001B[0;34m\u001B[0m\u001B[0m\n\u001B[1;32m    573\u001B[0m \u001B[0;34m\u001B[0m\u001B[0m\n",
      "\u001B[0;31mValueError\u001B[0m: 3 columns passed, passed data had 1800 columns"
     ]
    }
   ],
   "source": [
    "import plotly.express as px\n",
    "data_a1 = [list(projection_a1[:, 0]), list(projection_a1[:, 1]), list(projection_a1[:,2])]\n",
    "df_a1 = pd.DataFrame(data_a1, columns = ['PC1', 'PC2', 'PC3'])\n",
    "print(df_a1)\n",
    "\n",
    "fig = px.scatter_3d(df_a1, x='PC1', y='PC2', z='PC3', color='PC1', symbol ='PC1')\n",
    "fig.show\n",
    "fig.show()"
   ]
  },
  {
   "cell_type": "code",
   "execution_count": null,
   "metadata": {},
   "outputs": [],
   "source": []
  }
 ],
 "metadata": {
  "kernelspec": {
   "display_name": "Python 3",
   "language": "python",
   "name": "python3"
  },
  "language_info": {
   "codemirror_mode": {
    "name": "ipython",
    "version": 3
   },
   "file_extension": ".py",
   "mimetype": "text/x-python",
   "name": "python",
   "nbconvert_exporter": "python",
   "pygments_lexer": "ipython3",
   "version": "3.8.2"
  }
 },
 "nbformat": 4,
 "nbformat_minor": 1
}